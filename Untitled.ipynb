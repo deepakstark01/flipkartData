{
 "cells": [
  {
   "cell_type": "code",
   "execution_count": 39,
   "id": "caf8b1b7-ce7d-42f4-8b0e-31e5f111b2eb",
   "metadata": {},
   "outputs": [],
   "source": [
    "\n",
    "\n",
    "import requests\n",
    "from bs4 import BeautifulSoup\n",
    "\n",
    "\n",
    "def getProduct(querry, page):\n",
    "    headers = {\n",
    "        'User-Agent': 'Mozilla/5.0 (Windows NT 10.0; Win64; x64; rv:122.0) Gecko/20100101 Firefox/122.0',\n",
    "        'Accept': 'text/html,application/xhtml+xml,application/xml;q=0.9,image/avif,image/webp,*/*;q=0.8',\n",
    "        'Accept-Language': 'en-GB,en;q=0.5',\n",
    "        'Referer': 'https://www.flipkart.com/',\n",
    "        'Upgrade-Insecure-Requests': '1',\n",
    "        'Sec-Fetch-Dest': 'document',\n",
    "        'Sec-Fetch-Mode': 'navigate',\n",
    "        'Sec-Fetch-Site': 'same-origin',\n",
    "        'Sec-Fetch-User': '?1',\n",
    "        'Connection': 'keep-alive',\n",
    "    \n",
    "    }\n",
    "\n",
    "    params = {\n",
    "        'q': querry,\n",
    "        'otracker': 'search',\n",
    "        'otracker1': 'search',\n",
    "        'marketplace': 'FLIPKART',\n",
    "        'as-show': 'on',\n",
    "        'as': 'off',\n",
    "        'page': page,\n",
    "    }\n",
    "\n",
    "    response = requests.get('https://www.flipkart.com/search', params=params,  headers=headers)\n",
    "    return response.text\n",
    "\n"
   ]
  },
  {
   "cell_type": "code",
   "execution_count": 40,
   "id": "60a451db",
   "metadata": {},
   "outputs": [],
   "source": [
    "htmlDataResponse = getProduct('Mobile', 5)"
   ]
  },
  {
   "cell_type": "code",
   "execution_count": 42,
   "id": "8f5f3ee6-328b-4cb4-8925-bdddff380bab",
   "metadata": {},
   "outputs": [],
   "source": [
    "\n",
    "soup = BeautifulSoup(htmlDataResponse, 'html.parser')\n",
    "\n",
    "# with open('inedx.html', 'w', encoding='utf') as file:\n",
    "#     file.write(soup.prettify())\n",
    "#     file.close()"
   ]
  },
  {
   "cell_type": "code",
   "execution_count": 43,
   "id": "71981142",
   "metadata": {},
   "outputs": [],
   "source": [
    "allResult = soup.find_all('div', class_='_1AtVbE col-12-12')"
   ]
  },
  {
   "cell_type": "code",
   "execution_count": null,
   "id": "0af57c8c",
   "metadata": {},
   "outputs": [],
   "source": []
  },
  {
   "cell_type": "code",
   "execution_count": 47,
   "id": "04a7e555",
   "metadata": {},
   "outputs": [
    {
     "name": "stdout",
     "output_type": "stream",
     "text": [
      "{'Name': 'REDMI A2 (Aqua Blue, 64 GB)', 'Price': '5499', 'Rating': '4.2'}\n",
      "{'Name': 'POCO X6 5G (Mirror Black, 256 GB)', 'Price': '21999', 'Rating': '4.3'}\n",
      "{'Name': 'Apple iPhone 14 (Midnight, 128 GB)', 'Price': '58999', 'Rating': '4.6'}\n",
      "{'Name': 'Motorola e13 (Aurora Green, 64 GB)', 'Price': '6499', 'Rating': '4.1'}\n",
      "{'Name': 'POCO X6 Pro 5G (Racing Grey, 256 GB)', 'Price': '26999', 'Rating': '4.3'}\n",
      "{'Name': 'Motorola G32 (Satin Maroon, 128 GB)', 'Price': '9999', 'Rating': '4.1'}\n",
      "{'Name': 'vivo T2 5G (Velocity Wave, 128 GB)', 'Price': '15999', 'Rating': '4.4'}\n",
      "{'Name': 'vivo T2 5G (Nitro Blaze, 128 GB)', 'Price': '15999', 'Rating': '4.4'}\n",
      "{'Name': 'POCO M6 5G (Galactic Black, 128 GB)', 'Price': '9999', 'Rating': '4.3'}\n",
      "{'Name': 'REDMI A2 (Classic Black, 64 GB)', 'Price': '5499', 'Rating': '4.2'}\n",
      "{'Name': 'vivo T2 5G (Velocity Wave, 128 GB)', 'Price': '17999', 'Rating': '4.3'}\n",
      "{'Name': 'POCO M5 (Power Black, 128 GB)', 'Price': '8499', 'Rating': '4.2'}\n",
      "{'Name': 'REDMI A2 (Aqua Blue, 64 GB)', 'Price': '6990', 'Rating': '4.2'}\n",
      "{'Name': 'POCO X6 Pro 5G (Spectre Black, 512 GB)', 'Price': '28999', 'Rating': '4.3'}\n",
      "{'Name': 'OnePlus Nord CE 3 Lite 5G (Chromatic Gray, 256 GB)', 'Price': '20853', 'Rating': '4.4'}\n",
      "{'Name': 'Motorola e13 (Creamy White, 64 GB)', 'Price': '6499', 'Rating': '4.1'}\n",
      "{'Name': 'Motorola g84 5G (Midnight Blue, 256 GB)', 'Price': '17999', 'Rating': '4.2'}\n",
      "{'Name': 'OnePlus Nord CE 3 Lite 5G (Pastel lime, 256 GB)', 'Price': '21303', 'Rating': '4.4'}\n",
      "{'Name': 'REDMI Note 13 Pro 5G (Midnight Black, 128 GB)', 'Price': '25999', 'Rating': '4.3'}\n",
      "{'Name': 'Nokia 105 Single SIM, Keypad Mobile Phone with Wireless FM Radio', 'Price': '1199', 'Rating': '4.1'}\n",
      "{'Name': 'Nokia 105 Single SIM, Keypad Mobile Phone with Wireless FM Radio', 'Price': '1199', 'Rating': '4.1'}\n",
      "{'Name': 'Nokia 105 Single SIM, Keypad Mobile Phone with Wireless FM Radio', 'Price': '1199', 'Rating': '4.1'}\n",
      "{'Name': 'REDMI Note 13 Pro 5G (Coral Purple, 256 GB)', 'Price': '27999', 'Rating': '4.3'}\n",
      "{'Name': 'REDMI 12 5G (Moonstone Silver, 256 GB)', 'Price': '15499', 'Rating': '4.2'}\n"
     ]
    }
   ],
   "source": [
    "import pandas as pd\n",
    "ProductList = []\n",
    "\n",
    "for result in allResult:\n",
    "    ProductDict = {}\n",
    "    try:\n",
    "        ProductName = result.find('div', class_ = '_4rR01T')\n",
    "        ProductPrice = result.find('div', class_ = '_30jeq3 _1_WHN1')\n",
    "        ProductRating =result.find('div', class_ = '_3LWZlK')\n",
    "        ProductDict['Name'] = ProductName.text\n",
    "        ProductDict['Price'] = ProductPrice.text.replace('₹', '').replace(',', '')\n",
    "        ProductDict['Rating'] = ProductRating.text\n",
    "    except:\n",
    "        continue\n",
    "    ProductList.append(ProductDict)\n",
    "    print(ProductDict)"
   ]
  },
  {
   "cell_type": "code",
   "execution_count": 46,
   "id": "7fc22300",
   "metadata": {},
   "outputs": [],
   "source": [
    "df = pd.DataFrame(ProductList)\n",
    "df.to_excel('ProductList.xlsx', index=False)"
   ]
  },
  {
   "cell_type": "code",
   "execution_count": null,
   "id": "ac4ded87",
   "metadata": {},
   "outputs": [],
   "source": []
  }
 ],
 "metadata": {
  "kernelspec": {
   "display_name": "Python 3 (ipykernel)",
   "language": "python",
   "name": "python3"
  },
  "language_info": {
   "codemirror_mode": {
    "name": "ipython",
    "version": 3
   },
   "file_extension": ".py",
   "mimetype": "text/x-python",
   "name": "python",
   "nbconvert_exporter": "python",
   "pygments_lexer": "ipython3",
   "version": "3.11.5"
  }
 },
 "nbformat": 4,
 "nbformat_minor": 5
}
